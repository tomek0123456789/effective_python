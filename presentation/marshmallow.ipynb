{
 "cells": [
  {
   "cell_type": "markdown",
   "id": "106b2fa106a4fb5c",
   "metadata": {
    "collapsed": false
   },
   "source": [
    "# marshmallow\n",
    "\n",
    "![image](images/marshmallow.png)\n"
   ]
  },
  {
   "cell_type": "code",
   "execution_count": 3,
   "id": "60a517ce71797114",
   "metadata": {
    "ExecuteTime": {
     "end_time": "2024-01-22T17:01:24.015413Z",
     "start_time": "2024-01-22T17:01:24.011682Z"
    },
    "collapsed": false
   },
   "outputs": [
    {
     "name": "stdout",
     "output_type": "stream",
     "text": [
      "{'title': 'Hunky Dory', 'release_date': '1971-12-17', 'artist': {'name': 'David Bowie'}}\n"
     ]
    }
   ],
   "source": [
    "from datetime import date\n",
    "\n",
    "from marshmallow import Schema, fields\n",
    "\n",
    "\n",
    "class ArtistSchema(Schema):\n",
    "    name = fields.Str()\n",
    "\n",
    "\n",
    "class AlbumSchema(Schema):\n",
    "    title = fields.Str()\n",
    "    release_date = fields.Date()\n",
    "    artist = fields.Nested(ArtistSchema())\n",
    "\n",
    "\n",
    "bowie = dict(name=\"David Bowie\")\n",
    "album = dict(artist=bowie, title=\"Hunky Dory\", release_date=date(1971, 12, 17))\n",
    "\n",
    "schema = AlbumSchema()\n",
    "result = schema.dump(album)\n",
    "print(result)\n"
   ]
  },
  {
   "cell_type": "markdown",
   "id": "b7b10dc9e6210376",
   "metadata": {
    "collapsed": false
   },
   "source": [
    "In short, marshmallow schemas can be used to:\n",
    "\n",
    "- Validate input data.\n",
    "\n",
    "- Deserialize input data to app-level objects.\n",
    "\n",
    "- Serialize app-level objects to primitive Python types. The serialized objects can then be rendered to standard formats such as JSON for use in an HTTP API.\n"
   ]
  },
  {
   "cell_type": "code",
   "execution_count": 8,
   "id": "469748b030f1036",
   "metadata": {
    "collapsed": false,
    "ExecuteTime": {
     "end_time": "2024-01-22T17:08:58.518208Z",
     "start_time": "2024-01-22T17:08:58.510959Z"
    }
   },
   "outputs": [],
   "source": [
    "import datetime as dt\n",
    "\n",
    "\n",
    "class User:\n",
    "    def __init__(self, name, email):\n",
    "        self.name = name\n",
    "        self.email = email\n",
    "        self.created_at = dt.datetime.now()\n",
    "\n",
    "    def __repr__(self):\n",
    "        return \"<User(name={self.name!r})>\".format(self=self)"
   ]
  },
  {
   "cell_type": "code",
   "execution_count": 9,
   "id": "e8b971ee59b30a72",
   "metadata": {
    "collapsed": false,
    "ExecuteTime": {
     "end_time": "2024-01-22T17:08:59.094991Z",
     "start_time": "2024-01-22T17:08:59.093017Z"
    }
   },
   "outputs": [],
   "source": [
    "from marshmallow import Schema, fields\n",
    "\n",
    "\n",
    "class UserSchema(Schema):\n",
    "    name = fields.Str()\n",
    "    email = fields.Email()\n",
    "    created_at = fields.DateTime()"
   ]
  },
  {
   "cell_type": "markdown",
   "source": [
    "## Creating Schemas From Dictionaries\n",
    "\n",
    "You can create a schema from a dictionary of fields using the `from_dict` method.\n",
    "\n",
    "`from_dict` is especially useful for generating schemas at runtime."
   ],
   "metadata": {
    "collapsed": false
   },
   "id": "df439947f868fa86"
  },
  {
   "cell_type": "code",
   "execution_count": 6,
   "outputs": [],
   "source": [
    "from marshmallow import Schema, fields\n",
    "\n",
    "UserSchema = Schema.from_dict(\n",
    "    {\"name\": fields.Str(), \"email\": fields.Email(), \"created_at\": fields.DateTime()}\n",
    ")"
   ],
   "metadata": {
    "collapsed": false,
    "ExecuteTime": {
     "end_time": "2024-01-22T17:07:45.549517Z",
     "start_time": "2024-01-22T17:07:45.540263Z"
    }
   },
   "id": "822b3280118ff879"
  },
  {
   "cell_type": "markdown",
   "source": [
    "## Serializing Objects (“Dumping”)¶\n",
    "\n",
    "Serialize objects by passing them to your schema’s `dump` method, which returns the formatted result."
   ],
   "metadata": {
    "collapsed": false
   },
   "id": "114c512053d09fd5"
  },
  {
   "cell_type": "code",
   "execution_count": 11,
   "outputs": [
    {
     "name": "stdout",
     "output_type": "stream",
     "text": [
      "{'name': 'Monty', 'email': 'monty@python.org', 'created_at': '2024-01-22T18:09:44.739282'}\n",
      "<class 'dict'>\n"
     ]
    }
   ],
   "source": [
    "user = User(name=\"Monty\", email=\"monty@python.org\")\n",
    "schema = UserSchema()\n",
    "result = schema.dump(user)\n",
    "print(result)\n",
    "print(type(result))"
   ],
   "metadata": {
    "collapsed": false,
    "ExecuteTime": {
     "end_time": "2024-01-22T17:09:44.750789Z",
     "start_time": "2024-01-22T17:09:44.741815Z"
    }
   },
   "id": "4364eeda8c00ed45"
  },
  {
   "cell_type": "markdown",
   "source": [
    "You can also serialize to a JSON-encoded string using `dumps`."
   ],
   "metadata": {
    "collapsed": false
   },
   "id": "bfc2517ab5e36ba4"
  },
  {
   "cell_type": "code",
   "execution_count": 12,
   "outputs": [
    {
     "name": "stdout",
     "output_type": "stream",
     "text": [
      "{\"name\": \"Monty\", \"email\": \"monty@python.org\", \"created_at\": \"2024-01-22T18:09:44.739282\"}\n",
      "<class 'str'>\n"
     ]
    }
   ],
   "source": [
    "json_result = schema.dumps(user)\n",
    "print(json_result)\n",
    "print(type(json_result))"
   ],
   "metadata": {
    "collapsed": false,
    "ExecuteTime": {
     "end_time": "2024-01-22T17:09:57.314651Z",
     "start_time": "2024-01-22T17:09:57.298755Z"
    }
   },
   "id": "f4dc8d96a5f2defd"
  },
  {
   "cell_type": "markdown",
   "source": [
    "\n",
    "## Filtering Output\n",
    "\n",
    "You may not need to output all declared fields every time you use a schema. You can specify which fields to output with the `only` parameter.\n",
    "You can also exclude fields by passing in the `exclude` parameter."
   ],
   "metadata": {
    "collapsed": false
   },
   "id": "f821af1777cab706"
  },
  {
   "cell_type": "code",
   "execution_count": 16,
   "outputs": [
    {
     "name": "stdout",
     "output_type": "stream",
     "text": [
      "{'name': 'Monty', 'email': 'monty@python.org'}\n",
      "{'email': 'monty@python.org', 'created_at': '2024-01-22T18:09:44.739282'}\n"
     ]
    }
   ],
   "source": [
    "summary_schema = UserSchema(only=[\"name\", \"email\"])\n",
    "print(summary_schema.dump(user))\n",
    "\n",
    "summary_schema = UserSchema(exclude=[\"name\"])\n",
    "print(summary_schema.dump(user))"
   ],
   "metadata": {
    "collapsed": false,
    "ExecuteTime": {
     "end_time": "2024-01-22T17:17:34.340560Z",
     "start_time": "2024-01-22T17:17:34.334472Z"
    }
   },
   "id": "7e70ecffe619591d"
  },
  {
   "cell_type": "markdown",
   "source": [
    "## Deserializing Objects (“Loading”)\n",
    "\n",
    "The reverse of the `dump` method is `load`, which validates and deserializes an input dictionary to an application-level data structure.\n",
    "\n",
    "By default, `load` will return a dictionary of field names mapped to deserialized values (or raise a `ValidationError` with a dictionary of validation errors).\n",
    "\n",
    "Notice that the `datetime` string was converted to a `datetime` object."
   ],
   "metadata": {
    "collapsed": false
   },
   "id": "2dd9d3c8701bd8ea"
  },
  {
   "cell_type": "code",
   "execution_count": 17,
   "outputs": [
    {
     "name": "stdout",
     "output_type": "stream",
     "text": [
      "{'name': 'Ken', 'email': 'ken@yahoo.com', 'created_at': datetime.datetime(2014, 8, 11, 5, 26, 3, 869245)}\n"
     ]
    }
   ],
   "source": [
    "user_data = {\n",
    "    \"created_at\": \"2014-08-11T05:26:03.869245\",\n",
    "    \"email\": \"ken@yahoo.com\",\n",
    "    \"name\": \"Ken\",\n",
    "}\n",
    "schema = UserSchema()\n",
    "result = schema.load(user_data)\n",
    "print(result)"
   ],
   "metadata": {
    "collapsed": false,
    "ExecuteTime": {
     "end_time": "2024-01-22T17:22:38.692611Z",
     "start_time": "2024-01-22T17:22:38.685230Z"
    }
   },
   "id": "b3c1d2a0ea651e6a"
  },
  {
   "cell_type": "markdown",
   "source": [
    "## Deserializing to Objects\n",
    "\n",
    "In order to deserialize to an object, define a method of your Schema and decorate it with `post_load`. The method receives a dictionary of deserialized data."
   ],
   "metadata": {
    "collapsed": false
   },
   "id": "feab32a68de8a4d8"
  },
  {
   "cell_type": "code",
   "execution_count": 19,
   "outputs": [
    {
     "name": "stdout",
     "output_type": "stream",
     "text": [
      "<User(name='Ronnie')>\n"
     ]
    }
   ],
   "source": [
    "from marshmallow import Schema, fields, post_load\n",
    "\n",
    "\n",
    "class UserSchema(Schema):\n",
    "    name = fields.Str()\n",
    "    email = fields.Email()\n",
    "    created_at = fields.DateTime()\n",
    "\n",
    "    @post_load\n",
    "    def make_user(self, data, **kwargs):\n",
    "        return User(**data)\n",
    "    \n",
    "user_data = {\"name\": \"Ronnie\", \"email\": \"ronnie@stones.com\"}\n",
    "schema = UserSchema()\n",
    "result = schema.load(user_data)\n",
    "print(result)"
   ],
   "metadata": {
    "collapsed": false,
    "ExecuteTime": {
     "end_time": "2024-01-22T17:31:37.236359Z",
     "start_time": "2024-01-22T17:31:37.227535Z"
    }
   },
   "id": "634f8000ef20ae34"
  },
  {
   "cell_type": "markdown",
   "source": [
    "## Handling Collections of Objects\n",
    "\n",
    "Set `many=True` when dealing with iterable collections of objects."
   ],
   "metadata": {
    "collapsed": false
   },
   "id": "4607a7cf1d06f960"
  },
  {
   "cell_type": "code",
   "execution_count": 21,
   "outputs": [
    {
     "name": "stdout",
     "output_type": "stream",
     "text": [
      "[{'name': 'Mick', 'email': 'mick@stones.com', 'created_at': '2024-01-22T18:32:56.023602'}, {'name': 'Keith', 'email': 'keith@stones.com', 'created_at': '2024-01-22T18:32:56.023623'}]\n",
      "<class 'list'>\n"
     ]
    }
   ],
   "source": [
    "user1 = User(name=\"Mick\", email=\"mick@stones.com\")\n",
    "user2 = User(name=\"Keith\", email=\"keith@stones.com\")\n",
    "users = [user1, user2]\n",
    "schema = UserSchema(many=True)\n",
    "result = schema.dump(users)  # OR UserSchema().dump(users, many=True)\n",
    "print(result)\n",
    "print(type(result))"
   ],
   "metadata": {
    "collapsed": false,
    "ExecuteTime": {
     "end_time": "2024-01-22T17:32:56.030209Z",
     "start_time": "2024-01-22T17:32:56.025265Z"
    }
   },
   "id": "d716acc79bd7a781"
  },
  {
   "cell_type": "markdown",
   "source": [
    "## Validation\n",
    "\n",
    "`Schema.load()` (and its JSON-decoding counterpart, `Schema.loads()`) raises a `ValidationError` error when invalid data are passed in. You can access the dictionary of validation errors from the `ValidationError.messages` attribute. The data that were correctly deserialized are accessible in `ValidationError.valid_data`. Some fields, such as the `Email` and `URL` fields, have built-in validation."
   ],
   "metadata": {
    "collapsed": false
   },
   "id": "52568c70139e5f51"
  },
  {
   "cell_type": "code",
   "execution_count": 22,
   "outputs": [
    {
     "name": "stdout",
     "output_type": "stream",
     "text": [
      "{'email': ['Not a valid email address.']}\n",
      "{'name': 'John'}\n"
     ]
    }
   ],
   "source": [
    "from marshmallow import ValidationError\n",
    "\n",
    "try:\n",
    "    result = UserSchema().load({\"name\": \"John\", \"email\": \"foo\"})\n",
    "except ValidationError as err:\n",
    "    print(err.messages)\n",
    "    print(err.valid_data)"
   ],
   "metadata": {
    "collapsed": false,
    "ExecuteTime": {
     "end_time": "2024-01-22T17:58:28.063860Z",
     "start_time": "2024-01-22T17:58:28.055736Z"
    }
   },
   "id": "881edcc3889ad42e"
  },
  {
   "cell_type": "markdown",
   "source": [
    "You can perform additional validation for a field by passing the `validate` argument. There are a number of built-in validators in the `marshmallow.validate` module."
   ],
   "metadata": {
    "collapsed": false
   },
   "id": "317015ecb3caa9a6"
  },
  {
   "cell_type": "code",
   "execution_count": 31,
   "outputs": [
    {
     "name": "stdout",
     "output_type": "stream",
     "text": [
      "{'age': ['Must be greater than or equal to 18 and less than or equal to 40.'],\n",
      " 'name': ['Shorter than minimum length 1.'],\n",
      " 'permission': ['Must be one of: read, write, admin.']}\n"
     ]
    }
   ],
   "source": [
    "from pprint import pprint\n",
    "\n",
    "from marshmallow import Schema, fields, validate, ValidationError\n",
    "\n",
    "\n",
    "class UserSchema(Schema):\n",
    "    name = fields.Str(validate=validate.Length(min=1))\n",
    "    permission = fields.Str(validate=validate.OneOf([\"read\", \"write\", \"admin\"]))\n",
    "    age = fields.Int(validate=validate.Range(min=18, max=40))\n",
    "\n",
    "\n",
    "in_data = {\"name\": \"\", \"permission\": \"invalid\", \"age\": 71}\n",
    "try:\n",
    "    UserSchema().load(in_data)\n",
    "except ValidationError as err:\n",
    "    pprint(err.messages)\n"
   ],
   "metadata": {
    "collapsed": false,
    "ExecuteTime": {
     "end_time": "2024-01-22T18:13:02.308154Z",
     "start_time": "2024-01-22T18:13:02.292166Z"
    }
   },
   "id": "286e2d5baec96e2f"
  },
  {
   "cell_type": "markdown",
   "source": [
    "You may implement your own validators. A validator is a callable that accepts a single argument, the value to validate. If validation fails, the callable should raise a `ValidationError` with a useful error message or return `False` (for a generic error message).\n",
    "\n",
    "You may also pass a collection (list, tuple, generator) of callables to validate."
   ],
   "metadata": {
    "collapsed": false
   },
   "id": "f65429092bab9cd1"
  },
  {
   "cell_type": "code",
   "execution_count": 26,
   "outputs": [
    {
     "name": "stdout",
     "output_type": "stream",
     "text": [
      "{'quantity': ['Quantity must not be greater than 30.']}\n"
     ]
    }
   ],
   "source": [
    "from marshmallow import Schema, fields, ValidationError\n",
    "\n",
    "\n",
    "def validate_quantity(n):\n",
    "    if n < 0:\n",
    "        raise ValidationError(\"Quantity must be greater than 0.\")\n",
    "    if n > 30:\n",
    "        raise ValidationError(\"Quantity must not be greater than 30.\")\n",
    "\n",
    "\n",
    "class ItemSchema(Schema):\n",
    "    quantity = fields.Integer(validate=validate_quantity)\n",
    "\n",
    "\n",
    "in_data = {\"quantity\": 31}\n",
    "try:\n",
    "    result = ItemSchema().load(in_data)\n",
    "except ValidationError as err:\n",
    "    print(err.messages)"
   ],
   "metadata": {
    "collapsed": false,
    "ExecuteTime": {
     "end_time": "2024-01-22T18:01:11.488632Z",
     "start_time": "2024-01-22T18:01:11.480957Z"
    }
   },
   "id": "88c1bff51695edf1"
  },
  {
   "cell_type": "markdown",
   "source": [
    "## Validation Without Deserialization¶\n",
    "\n",
    "If you only need to validate input data (without deserializing to an object), you can use` Schema.validate()`"
   ],
   "metadata": {
    "collapsed": false
   },
   "id": "dfa8c1da73d86bd4"
  },
  {
   "cell_type": "code",
   "execution_count": 34,
   "outputs": [
    {
     "name": "stdout",
     "output_type": "stream",
     "text": [
      "{'email': ['Not a valid email address.']}\n"
     ]
    }
   ],
   "source": [
    "class UserSchema(Schema):\n",
    "    name = fields.Str()\n",
    "    email = fields.Email()\n",
    "    created_at = fields.DateTime()\n",
    "\n",
    "errors = UserSchema().validate({\"name\": \"Ronnie\", \"email\": \"invalid-email\"})\n",
    "print(errors)"
   ],
   "metadata": {
    "collapsed": false,
    "ExecuteTime": {
     "end_time": "2024-01-22T18:15:30.264168Z",
     "start_time": "2024-01-22T18:15:30.251380Z"
    }
   },
   "id": "3a245d73fa3e068c"
  },
  {
   "cell_type": "markdown",
   "source": [
    "## Specifying Defaults\n",
    "\n",
    "`load_default` specifies the default deserialization value for a field. Likewise, `dump_default` specifies the default serialization value."
   ],
   "metadata": {
    "collapsed": false
   },
   "id": "e0abdfd1a1d20a1f"
  },
  {
   "cell_type": "code",
   "execution_count": 27,
   "outputs": [
    {
     "name": "stdout",
     "output_type": "stream",
     "text": [
      "{'id': UUID('4f8b9eb8-b951-11ee-8d3d-26851adf4b1c')}\n",
      "{'birthdate': '2017-09-29T00:00:00'}\n"
     ]
    }
   ],
   "source": [
    "import uuid\n",
    "\n",
    "\n",
    "class UserSchema(Schema):\n",
    "    id = fields.UUID(load_default=uuid.uuid1)\n",
    "    birthdate = fields.DateTime(dump_default=dt.datetime(2017, 9, 29))\n",
    "\n",
    "\n",
    "print(UserSchema().load({}))\n",
    "print(UserSchema().dump({}))\n"
   ],
   "metadata": {
    "collapsed": false,
    "ExecuteTime": {
     "end_time": "2024-01-22T18:08:57.335231Z",
     "start_time": "2024-01-22T18:08:57.313702Z"
    }
   },
   "id": "6fbab3939ea44be4"
  },
  {
   "cell_type": "markdown",
   "source": [
    "## Handling Unknown Fields\n",
    "By default, load will raise a `ValidationError` if it encounters a key with no matching `Field` in the schema.\n",
    "\n",
    "This behavior can be modified with the unknown option, which accepts one of the following:\n",
    "\n",
    "   - `RAISE` (default): raise a `ValidationError` if there are any unknown fields\n",
    "\n",
    "   - `EXCLUDE`: exclude unknown fields\n",
    "\n",
    "   - `INCLUDE`: accept and include the unknown fields\n"
   ],
   "metadata": {
    "collapsed": false
   },
   "id": "1d760ec7146d730d"
  },
  {
   "cell_type": "code",
   "execution_count": 28,
   "outputs": [],
   "source": [
    "from marshmallow import Schema, INCLUDE\n",
    "\n",
    "# You can specify `unknown` in the _class Meta_ of your `Schema`,\n",
    "class UserSchema(Schema):\n",
    "    class Meta:\n",
    "        unknown = INCLUDE\n",
    "\n",
    "# at instantiation time,      \n",
    "schema = UserSchema(unknown=INCLUDE)\n",
    "\n",
    "# or when calling `load`\n",
    "# The unknown option value set in load will override the value applied at instantiation time, which itself will override the value defined in the class Meta.\n",
    "UserSchema().load(data, unknown=INCLUDE)"
   ],
   "metadata": {
    "collapsed": false,
    "ExecuteTime": {
     "end_time": "2024-01-22T18:10:19.198947Z",
     "start_time": "2024-01-22T18:10:19.172419Z"
    }
   },
   "id": "714bb167ff0a99e2"
  },
  {
   "cell_type": "markdown",
   "source": [
    "## Specifying Serialization/Deserialization Keys\n",
    "\n",
    "\n",
    "\n",
    "Schemas will (de)serialize an input dictionary from/to an output dictionary whose keys are identical to the field names. If you are consuming and producing data that does not match your schema, you can specify the output keys via the `data_key` argument."
   ],
   "metadata": {
    "collapsed": false
   },
   "id": "1efb70cea183b302"
  },
  {
   "cell_type": "code",
   "execution_count": 36,
   "outputs": [
    {
     "name": "stdout",
     "output_type": "stream",
     "text": [
      "{'name': 'Mike', 'emailAddress': 'foo@bar.com'}\n",
      "{'name': 'Mike', 'email': 'foo@bar.com'}\n"
     ]
    }
   ],
   "source": [
    "class UserSchema(Schema):\n",
    "    name = fields.String()\n",
    "    email = fields.Email(data_key=\"emailAddress\")\n",
    "\n",
    "\n",
    "s = UserSchema()\n",
    "\n",
    "data = {\"name\": \"Mike\", \"email\": \"foo@bar.com\"}\n",
    "result = s.dump(data)\n",
    "print(result)\n",
    "\n",
    "data = {\"name\": \"Mike\", \"emailAddress\": \"foo@bar.com\"}\n",
    "result = s.load(data)\n",
    "print(result)"
   ],
   "metadata": {
    "collapsed": false,
    "ExecuteTime": {
     "end_time": "2024-01-22T18:16:35.411862Z",
     "start_time": "2024-01-22T18:16:35.403058Z"
    }
   },
   "id": "c7df011721182622"
  },
  {
   "cell_type": "markdown",
   "source": [
    "## Nesting Schemas\n",
    "Schemas can be nested to represent relationships between objects (e.g. foreign key relationships). For example, a `Blog` may have an author represented by a `User` object."
   ],
   "metadata": {
    "collapsed": false
   },
   "id": "e8789ee7284f74f7"
  },
  {
   "cell_type": "code",
   "execution_count": 42,
   "outputs": [],
   "source": [
    "from marshmallow import Schema, fields\n",
    "import datetime as dt\n",
    "\n",
    "\n",
    "class User:\n",
    "    def __init__(self, name, email):\n",
    "        self.name = name\n",
    "        self.email = email\n",
    "        self.created_at = dt.datetime.now()\n",
    "        self.friends = []\n",
    "        self.employer = None\n",
    "\n",
    "\n",
    "class Blog:\n",
    "    def __init__(self, title, author):\n",
    "        self.title = title\n",
    "        self.author = author\n",
    "\n",
    "\n",
    "class UserSchema(Schema):\n",
    "    name = fields.String()\n",
    "    email = fields.Email()\n",
    "    created_at = fields.DateTime()\n",
    "\n",
    "\n",
    "class BlogSchema(Schema):\n",
    "    title = fields.String()\n",
    "    author = fields.Nested(UserSchema)\n",
    "    # If the field is a collection of nested objects, pass the Nested field to List.\n",
    "    # collaborators = fields.List(fields.Nested(UserSchema))\n"
   ],
   "metadata": {
    "collapsed": false,
    "ExecuteTime": {
     "end_time": "2024-01-22T18:26:24.896596Z",
     "start_time": "2024-01-22T18:26:24.883368Z"
    }
   },
   "id": "894e707411bce432"
  },
  {
   "cell_type": "code",
   "execution_count": 43,
   "outputs": [
    {
     "name": "stdout",
     "output_type": "stream",
     "text": [
      "{'author': {'created_at': '2024-01-22T19:26:25.486175',\n",
      "            'email': 'monty@python.org',\n",
      "            'name': 'Monty'},\n",
      " 'title': 'Something Completely Different'}\n"
     ]
    }
   ],
   "source": [
    "from pprint import pprint\n",
    "\n",
    "user = User(name=\"Monty\", email=\"monty@python.org\")\n",
    "blog = Blog(title=\"Something Completely Different\", author=user)\n",
    "result = BlogSchema().dump(blog)\n",
    "pprint(result)"
   ],
   "metadata": {
    "collapsed": false,
    "ExecuteTime": {
     "end_time": "2024-01-22T18:26:25.498506Z",
     "start_time": "2024-01-22T18:26:25.489670Z"
    }
   },
   "id": "ad1eff1e70605dc3"
  },
  {
   "cell_type": "markdown",
   "source": [
    "## Pre-processing and Post-processing Methods\n",
    "\n",
    "Data pre-processing and post-processing methods can be registered using the `pre_load`, `post_load`, `pre_dump`, and `post_dump` decorators."
   ],
   "metadata": {
    "collapsed": false
   },
   "id": "a59940cc5768dfe3"
  },
  {
   "cell_type": "code",
   "execution_count": 44,
   "outputs": [
    {
     "data": {
      "text/plain": "'steve-loria'"
     },
     "execution_count": 44,
     "metadata": {},
     "output_type": "execute_result"
    }
   ],
   "source": [
    "from marshmallow import Schema, fields, post_load\n",
    "\n",
    "\n",
    "class UserSchema(Schema):\n",
    "    name = fields.Str()\n",
    "    slug = fields.Str()\n",
    "\n",
    "    @post_load\n",
    "    def slugify_name(self, in_data, **kwargs):\n",
    "        in_data[\"slug\"] = in_data[\"slug\"].lower().strip().replace(\" \", \"-\")\n",
    "        return in_data\n",
    "\n",
    "\n",
    "schema = UserSchema()\n",
    "result = schema.load({\"name\": \"Steve\", \"slug\": \"Steve Loria \"})\n",
    "result[\"slug\"]"
   ],
   "metadata": {
    "collapsed": false,
    "ExecuteTime": {
     "end_time": "2024-01-22T18:37:02.788004Z",
     "start_time": "2024-01-22T18:37:02.768802Z"
    }
   },
   "id": "29130b2a9e677e6e"
  },
  {
   "cell_type": "markdown",
   "source": [
    "\n",
    "## Passing “many”\n",
    "\n",
    "By default, pre- and post-processing methods receive one object/datum at a time, transparently handling the many parameter passed to the Schema’s dump()/load() method at runtime.\n",
    "\n",
    "In cases where your pre- and post-processing methods needs to handle the input collection when processing multiple objects, add pass_many=True to the method decorators.\n",
    "\n",
    "Your method will then receive the input data (which may be a single datum or a collection, depending on the dump/load call).\n",
    "\n",
    "\n",
    "## Example: Enveloping\n",
    "\n",
    "One common use case is to wrap data in a namespace upon serialization and unwrap the data during deserialization.\n"
   ],
   "metadata": {
    "collapsed": false
   },
   "id": "19d0bffd3e5aa2d"
  },
  {
   "cell_type": "code",
   "execution_count": 47,
   "outputs": [
    {
     "name": "stdout",
     "output_type": "stream",
     "text": [
      "{'user': {'name': 'Mick', 'email': 'mick@stones.org'}} \n",
      "\n",
      "{'users': [{'name': 'Keith', 'email': 'keith@stones.org'}, {'name': 'Charlie', 'email': 'charlie@stones.org'}]} \n",
      "\n",
      "[<__main__.User object at 0x109255650>, <__main__.User object at 0x109033990>] \n"
     ]
    }
   ],
   "source": [
    "from marshmallow import Schema, fields, pre_load, post_load, post_dump\n",
    "\n",
    "\n",
    "class BaseSchema(Schema):\n",
    "    # Custom options\n",
    "    __envelope__ = {\"single\": None, \"many\": None}\n",
    "    __model__ = User\n",
    "\n",
    "    def get_envelope_key(self, many):\n",
    "        \"\"\"Helper to get the envelope key.\"\"\"\n",
    "        key = self.__envelope__[\"many\"] if many else self.__envelope__[\"single\"]\n",
    "        assert key is not None, \"Envelope key undefined\"\n",
    "        return key\n",
    "\n",
    "    @pre_load(pass_many=True)\n",
    "    def unwrap_envelope(self, data, many, **kwargs):\n",
    "        key = self.get_envelope_key(many)\n",
    "        return data[key]\n",
    "\n",
    "    @post_dump(pass_many=True)\n",
    "    def wrap_with_envelope(self, data, many, **kwargs):\n",
    "        key = self.get_envelope_key(many)\n",
    "        return {key: data}\n",
    "\n",
    "    @post_load\n",
    "    def make_object(self, data, **kwargs):\n",
    "        return self.__model__(**data)\n",
    "\n",
    "\n",
    "class UserSchema(BaseSchema):\n",
    "    __envelope__ = {\"single\": \"user\", \"many\": \"users\"}\n",
    "    __model__ = User\n",
    "    name = fields.Str()\n",
    "    email = fields.Email()\n",
    "\n",
    "\n",
    "user_schema = UserSchema()\n",
    "\n",
    "user = User(\"Mick\", email=\"mick@stones.org\")\n",
    "user_data = user_schema.dump(user)\n",
    "print(user_data, \"\\n\")\n",
    "\n",
    "users = [\n",
    "    User(\"Keith\", email=\"keith@stones.org\"),\n",
    "    User(\"Charlie\", email=\"charlie@stones.org\"),\n",
    "]\n",
    "users_data = user_schema.dump(users, many=True)\n",
    "print(users_data, \"\\n\")\n",
    "\n",
    "user_objs = user_schema.load(users_data, many=True)\n",
    "print(user_objs, \"\\n\")"
   ],
   "metadata": {
    "collapsed": false,
    "ExecuteTime": {
     "end_time": "2024-01-22T18:45:16.650168Z",
     "start_time": "2024-01-22T18:45:16.644885Z"
    }
   },
   "id": "f3b936e45de1f79b"
  },
  {
   "cell_type": "code",
   "execution_count": null,
   "outputs": [],
   "source": [],
   "metadata": {
    "collapsed": false
   },
   "id": "f09976ea6d8c4f18"
  }
 ],
 "metadata": {
  "kernelspec": {
   "display_name": "Python 3 (ipykernel)",
   "language": "python",
   "name": "python3"
  },
  "language_info": {
   "codemirror_mode": {
    "name": "ipython",
    "version": 3
   },
   "file_extension": ".py",
   "mimetype": "text/x-python",
   "name": "python",
   "nbconvert_exporter": "python",
   "pygments_lexer": "ipython3",
   "version": "3.11.6"
  }
 },
 "nbformat": 4,
 "nbformat_minor": 5
}
