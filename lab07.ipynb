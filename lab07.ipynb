{
 "cells": [
  {
   "cell_type": "markdown",
   "metadata": {},
   "source": [
    "# Lab 07"
   ]
  },
  {
   "cell_type": "markdown",
   "metadata": {},
   "source": [
    "## Zadanie 1"
   ]
  },
  {
   "cell_type": "markdown",
   "metadata": {},
   "source": [
    "funkcje to tylko wielomiany (takie, ktore mozna puscic bez importowania libek, a wiekszosc innych to z math trzeba)\n",
    "do pochodnej jakas funkcja z scipy (jesli korzystamy z tego, to h nie jest potrzebne(?))\n",
    "\n",
    "Przygotuj demo programu znajdującego miejsca zerowe metodą Newtona. Wykorzystując `argparse` ([link](https://docs.python.org/3.6/library/argparse.html#module-argparse)) lub `optparse` ([link](https://docs.python.org/3.6/library/optparse.html)) obsłuż:\n",
    "- ustalane punktu startowego,\n",
    "- wielkość kroku w pochodnej,\n",
    "- ilość kroków metody,\n",
    "- dokładność\n",
    "- pomoc\n",
    "\n",
    "Program uruchamiamy podając, np.:"
   ]
  },
  {
   "cell_type": "markdown",
   "metadata": {},
   "source": [
    "`./newton.py x**2+x+1 -h 0.00001`"
   ]
  },
  {
   "cell_type": "markdown",
   "metadata": {},
   "source": [
    "## Zadanie 2"
   ]
  },
  {
   "cell_type": "markdown",
   "source": [
    "Zadanie należy wykonać wykorzystując program `BagOfWords` z poprzednich zajęć.\n",
    "\n",
    "\n",
    "Przerób ją tak, żeby interpunkcja, cyfry i wszelkie inne znaki nie przeszkadzały w parsowaniu tekstu. Uruchom ja na [tekście hamleta](http://www.gutenberg.org/cache/epub/1787/pg1787.txt). Ile razy występuje słowo hamlet? Jak brzmi 10 najczęściej występujących słów?"
   ],
   "metadata": {
    "collapsed": false
   }
  },
  {
   "cell_type": "code",
   "execution_count": 6,
   "outputs": [
    {
     "name": "stdout",
     "output_type": "stream",
     "text": [
      "('to', 2) ('So', 1) ('seduce-', 1) ('won', 1) ('his', 1) ('shameful', 1) ('lust', 1) ('The', 1) ('will', 1) ('of', 1) ('my', 1) ('most', 1) ('seeming-virtuous', 1) ('queen', 1) ('O', 1) ('Hamlet', 1) ('what', 1) ('a', 1) ('falling-off', 1) ('was', 1) ('there', 1)\n"
     ]
    }
   ],
   "source": [
    "import re\n",
    "from collections import defaultdict\n",
    "from typing import IO, Union, Optional\n",
    "import io\n",
    "import functools\n",
    "\n",
    "class BagOfWords:\n",
    "    def __init__(self, content: Optional[Union[str, IO]] = None):\n",
    "        self.d = defaultdict(int)\n",
    "        if isinstance(content, io.TextIOWrapper):\n",
    "            for line in content:\n",
    "                line = re.sub('[,\\.\\d;\\[\\]?!(\\w+\\-)]')\n",
    "                for i in line.split():\n",
    "                    self.d[i] += 1\n",
    "            content.close()\n",
    "        else:\n",
    "            pattern = re.compile('[,\\.\\d;\\[\\]?!]')\n",
    "            content = pattern.sub(\"\", content)\n",
    "            content = re.sub(r'((\\w+)\\-)', \"\")\n",
    "            # content = re.sub('[,\\.\\d;\\[\\]?!(\\w+\\-)]', content)\n",
    "\n",
    "            for i in content.split():\n",
    "                self.d[i] += 1\n",
    "\n",
    "    def __iter__(self):\n",
    "        sorted_keys = sorted(self.d.items(), key=lambda item: item[1], reverse=True)\n",
    "        return iter(sorted_keys)\n",
    "\n",
    "    def __str__(self):\n",
    "        return functools.reduce(lambda init, x: str(init) + \" \" + str(x), self.__iter__())\n",
    "\n",
    "    def __repr__(self):\n",
    "        return self.__str__()\n",
    "\n",
    "    def __contains__(self, item):\n",
    "        try:\n",
    "            _ = self.d[item]\n",
    "            return True\n",
    "        except KeyError:\n",
    "            return False\n",
    "\n",
    "    def __getitem__(self, item):\n",
    "        return self.d[item]\n",
    "\n",
    "    def __setitem__(self, key, value):\n",
    "        self.d[key] = value\n",
    "\n",
    "    def __add__(self, other):\n",
    "        new_bag = BagOfWords('')\n",
    "        for word in self.d:\n",
    "            new_bag.d[word] += self.d[word]\n",
    "        for word in other.d:\n",
    "            new_bag.d[word] += other.d[word]\n",
    "        return new_bag\n",
    "\n",
    "s = \"\"\" So to seduce!- won to his shameful lust\n",
    "    The will of my most seeming-virtuous queen.\n",
    "    O Hamlet, what a falling-off was there,\"\"\"\n",
    "\n",
    "b = BagOfWords(s)\n",
    "print(b)"
   ],
   "metadata": {
    "collapsed": false
   }
  },
  {
   "cell_type": "markdown",
   "metadata": {},
   "source": [
    "\n",
    "\n",
    "## Zadanie 3"
   ]
  },
  {
   "cell_type": "markdown",
   "metadata": {},
   "source": [
    "Wykorzystując `pickle` zapisz i odczytaj klasy z poprzedniego zadania nakarmonej Hamletem. Porównaj metody i rozmiar."
   ]
  },
  {
   "cell_type": "markdown",
   "metadata": {},
   "source": [
    "## Zadanie 4"
   ]
  },
  {
   "cell_type": "markdown",
   "metadata": {},
   "source": [
    "Wykorzystując [https://gist.github.com/pamelafox/986163](https://gist.github.com/pamelafox/986163) podaj aktualną godzinę we:\n",
    "- wszystkich krajach, wyświetlając je zgrupowane względem kontynentów,\n",
    "- przeprowadź symulacyjne wyświetlanie kolejnych krajów w miarę jak w danym kraju wybija północ, opóżnienie wyświetlania ustaw proporcjonalne do realnego czasu"
   ]
  },
  {
   "cell_type": "markdown",
   "metadata": {},
   "source": [
    "## Zadanie 5"
   ]
  },
  {
   "cell_type": "markdown",
   "metadata": {},
   "source": [
    "Dla klasy `BagOfWords` napisz metody `save` oraz `load` wykorzystujące `json`'a do zapisu i odczytu danych."
   ]
  }
 ],
 "metadata": {
  "kernelspec": {
   "display_name": "Python 3",
   "language": "python",
   "name": "python3"
  },
  "language_info": {
   "codemirror_mode": {
    "name": "ipython",
    "version": 3
   },
   "file_extension": ".py",
   "mimetype": "text/x-python",
   "name": "python",
   "nbconvert_exporter": "python",
   "pygments_lexer": "ipython3",
   "version": "3.7.9"
  }
 },
 "nbformat": 4,
 "nbformat_minor": 2
}
