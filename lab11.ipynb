{
 "cells": [
  {
   "cell_type": "markdown",
   "metadata": {},
   "source": [
    "## Numpy"
   ]
  },
  {
   "cell_type": "code",
   "execution_count": 1,
   "metadata": {
    "collapsed": true
   },
   "outputs": [],
   "source": [
    "import numpy as np"
   ]
  },
  {
   "cell_type": "markdown",
   "metadata": {},
   "source": [
    "### Zadanie 1.\n",
    "\n",
    "Stwórz losową tablicę 10,000 liczb, następnie do każdego elementu dodaj 1. Następnie napisz dokładnie tę samą funkcję używając `numpy` i jego tablic. Porównaj czas działania swoich rozwiązań."
   ]
  },
  {
   "cell_type": "code",
   "execution_count": 12,
   "metadata": {
    "collapsed": true
   },
   "outputs": [
    {
     "name": "stdout",
     "output_type": "stream",
     "text": [
      "normal_random time: 0.0030485000002045126\n",
      "numpy_random time: 8.040000011533266e-05\n"
     ]
    }
   ],
   "source": [
    "import random\n",
    "import time\n",
    "import numpy as np\n",
    "\n",
    "normal_random = [random.randint(0, 10000) for i in range(10000)]\n",
    "normal_begin = time.perf_counter()\n",
    "for i in range(len(normal_random)):\n",
    "    normal_random[i] += 1\n",
    "normal_end = time.perf_counter()\n",
    "print(f\"normal_random time: {normal_end - normal_begin}\")\n",
    "\n",
    "numpy_random = np.random.randint(0, 10000, size=10000)\n",
    "numpy_begin = time.perf_counter()\n",
    "numpy_random += 1\n",
    "numpy_end = time.perf_counter()\n",
    "print(f\"numpy_random time: {numpy_end - numpy_begin}\")"
   ]
  },
  {
   "cell_type": "markdown",
   "metadata": {},
   "source": [
    "### Zadanie 2.\n",
    "\n",
    "Napisz funkcje obliczajaca $\\sin(x) + \\cos(x)$ dla kazdego elementu tablicy 10,000 losowych liczb używając pętli oraz używając numpy, porownaj ich szybkość podobnie jak w poprzednim zadaniu."
   ]
  },
  {
   "cell_type": "code",
   "execution_count": 16,
   "metadata": {
    "collapsed": true
   },
   "outputs": [
    {
     "name": "stdout",
     "output_type": "stream",
     "text": [
      "normal_random time: 0.00889999999981228\n",
      "numpy_random time: 0.0009623000000829052\n"
     ]
    }
   ],
   "source": [
    "from math import sin, cos\n",
    "import random\n",
    "import time\n",
    "import numpy as np\n",
    "\n",
    "\n",
    "normal_random = [random.randint(0, 10000) for i in range(10000)]\n",
    "normal_begin = time.perf_counter()\n",
    "for x in normal_random:\n",
    "    _ = sin(x) + cos(x)\n",
    "normal_end = time.perf_counter()\n",
    "print(f\"normal_random time: {normal_end - normal_begin}\")\n",
    "\n",
    "numpy_random = np.random.randint(0, 10000, size=10000)\n",
    "numpy_begin = time.perf_counter()\n",
    "_ = np.sin(numpy_random) + np.cos(numpy_random)\n",
    "numpy_end = time.perf_counter()\n",
    "print(f\"numpy_random time: {numpy_end - numpy_begin}\")"
   ]
  },
  {
   "cell_type": "markdown",
   "metadata": {},
   "source": [
    "### Zadanie 3.\n",
    "\n",
    "Napisz wydajniejszą forme następujących funkcji. Dopisz do każdej test potwierdzający szybkość zaproponowanego rozwiązania."
   ]
  },
  {
   "cell_type": "code",
   "execution_count": 36,
   "metadata": {
    "collapsed": true
   },
   "outputs": [
    {
     "name": "stdout",
     "output_type": "stream",
     "text": [
      "cube_sum time: \t\t\t\t\t4.94654969999965\n",
      "cube_sum_faster time: \t\t\t0.07882449999988239\n",
      "\n",
      "almost_variance time: \t\t\t13.322635100000298\n",
      "almost_variance_faster time: \t0.994205200000124\n"
     ]
    }
   ],
   "source": [
    "def cube_sum(x):\n",
    "    \"\"\"Zwraca sume szescianow elementow\"\"\"\n",
    "    result = 0\n",
    "    for i in range(len(x)):\n",
    "        result += x[i] ** 3\n",
    "    return result\n",
    "\n",
    "def almost_variance(x):\n",
    "    \"\"\"Oblicza 1/n * SUM (x_i - mean(x))^4\"\"\"\n",
    "    m = sum(x) / len(x)\n",
    "    result = 0\n",
    "    for i in range(len(x)):\n",
    "        result += (x[i] - m) ** 4\n",
    "    result /= len(x)\n",
    "    return result\n",
    "\n",
    "def cube_sum_faster(x):\n",
    "    # return np.sum(np.power(np.array(x), 3))  # 0.10570169999982681\n",
    "    return np.sum(np.array(x) ** 3)  # 0.08111879999978555\n",
    "\n",
    "def almost_variance_faster(x):\n",
    "    numpy_array = np.array(x)\n",
    "    sum = np.sum(numpy_array)\n",
    "    len = numpy_array.shape[0]\n",
    "    m = sum / len\n",
    "    return np.divide((numpy_array - m) ** 4, len)\n",
    "\n",
    "\n",
    "x = np.random.randint(0, 10, size=int(1e7))\n",
    "\n",
    "cube_begin = time.perf_counter()\n",
    "cube_sum(x)\n",
    "cube_end = time.perf_counter()\n",
    "\n",
    "cube_faster_begin = time.perf_counter()\n",
    "cube_sum_faster(x)\n",
    "cube_faster_end = time.perf_counter()\n",
    "\n",
    "print(f\"cube_sum time: \\t\\t\\t\\t\\t{cube_end - cube_begin}\\ncube_sum_faster time: \\t\\t\\t{cube_faster_end - cube_faster_begin}\")\n",
    "\n",
    "variance_begin = time.perf_counter()\n",
    "almost_variance(x)\n",
    "variance_end = time.perf_counter()\n",
    "\n",
    "print()\n",
    "\n",
    "variance_faster_begin = time.perf_counter()\n",
    "almost_variance_faster(x)\n",
    "variance_faster_end = time.perf_counter()\n",
    "\n",
    "print(f\"almost_variance time: \\t\\t\\t{variance_end - variance_begin}\\nalmost_variance_faster time: \\t{variance_faster_end - variance_faster_begin}\")\n"
   ]
  },
  {
   "cell_type": "markdown",
   "metadata": {},
   "source": [
    "### Zadanie 4.\n",
    "\n",
    "Wykorzystujac `broadcasting` (patrz na rysunek poniżej) stwórz tabliczkę mnożenia tzn. tablice $A$ taka, ze $$A_{ij} = i \\cdot j\\;\\;\\;\\;\\; \\forall i,j \\in \\{1,\\dots,10\\}$$\n",
    "\n",
    "Czy potrafisz wykonać to jednym poleceniem, nie używajac przy tym petli/comprehensions?"
   ]
  },
  {
   "cell_type": "markdown",
   "metadata": {},
   "source": [
    "<img src=\"http://www.astroml.org/_images/fig_broadcast_visual_1.png\">"
   ]
  },
  {
   "cell_type": "code",
   "execution_count": 18,
   "metadata": {
    "collapsed": true
   },
   "outputs": [
    {
     "data": {
      "text/plain": "array([[  1,   2,   3,   4,   5,   6,   7,   8,   9,  10],\n       [  2,   4,   6,   8,  10,  12,  14,  16,  18,  20],\n       [  3,   6,   9,  12,  15,  18,  21,  24,  27,  30],\n       [  4,   8,  12,  16,  20,  24,  28,  32,  36,  40],\n       [  5,  10,  15,  20,  25,  30,  35,  40,  45,  50],\n       [  6,  12,  18,  24,  30,  36,  42,  48,  54,  60],\n       [  7,  14,  21,  28,  35,  42,  49,  56,  63,  70],\n       [  8,  16,  24,  32,  40,  48,  56,  64,  72,  80],\n       [  9,  18,  27,  36,  45,  54,  63,  72,  81,  90],\n       [ 10,  20,  30,  40,  50,  60,  70,  80,  90, 100]])"
     },
     "execution_count": 18,
     "metadata": {},
     "output_type": "execute_result"
    }
   ],
   "source": [
    "np.arange(1, 11).reshape(10, 1) * np.arange(1, 11)"
   ]
  },
  {
   "cell_type": "markdown",
   "metadata": {},
   "source": [
    "### Zad 5.\n",
    "\n",
    "Wygeneruj losową tablice `10 x 5`, która będzie reprezentować `10` punktów w `5` wymiarowej przestrzeni. Napisz funkcje, która policzy odleglość euklidesową pomiędzy każdą parą punktów, czy potrafisz zrobić to **bez użycia żadnych pętli/comprehensions**? \n",
    "\n",
    "Przypomnienie, dla dwóch wektorów: $x$ i $y$ $$d_{e}(x,y) = \\| x - y \\|^2_2 = \\sum_{i=1}^d (x_i - y_i)^2 $$"
   ]
  },
  {
   "cell_type": "code",
   "execution_count": 23,
   "metadata": {
    "collapsed": true
   },
   "outputs": [
    {
     "data": {
      "text/plain": "array([[6.27606663, 4.19322629, 0.38608152, 5.81636402, 2.88223014],\n       [3.834157  , 2.41927383, 1.80421983, 1.42936183, 8.09794788],\n       [8.30243848, 1.35009853, 2.93970743, 6.2698767 , 8.28303554],\n       [5.6259824 , 1.23093654, 6.99746759, 3.31168929, 4.90099574],\n       [8.99548966, 7.94233411, 5.05356854, 7.06300613, 1.06074727],\n       [2.87198586, 8.09245539, 4.21319914, 2.03366398, 2.53346698],\n       [6.12283528, 1.76971216, 1.08082528, 3.99416305, 8.19179557],\n       [0.73636837, 5.61808111, 6.43493484, 8.44792107, 7.07058892],\n       [5.30620606, 6.23772704, 7.36851059, 0.57824147, 6.13600865],\n       [3.8333236 , 8.98298078, 2.35686013, 6.27839093, 5.24049446]])"
     },
     "execution_count": 23,
     "metadata": {},
     "output_type": "execute_result"
    }
   ],
   "source": [
    "import random\n",
    "array = np.random.rand(10, 5) * random.randint(1, 10)\n"
   ]
  },
  {
   "cell_type": "markdown",
   "metadata": {},
   "source": [
    "### Zad 6.\n",
    "\n",
    "Napisz funkcje do \"wybielania\" zbioru punktow, tj. aplikowania następującej transformacji (ponownie, zrób to bez użycia pętli etc.)\n",
    "$$\n",
    "\\mathrm{white}(X)_{ij} = \\frac{X_{ij} - \\mu_j}{\\sigma_j}\n",
    "$$\n",
    "gdzie $\\mu_j$ to srednia po $j$ej kolumnie, a $\\sigma_j$ to odchylenie standardowe po tej kolumnie, np.\n",
    "\n",
    "$$\n",
    "\\mathrm{white}\\left ( \\left [ \\begin{matrix} \n",
    "0& 1\\\\\n",
    "2& 3\\\\\n",
    "4& 5\\\\\n",
    "6& 7\\\\\n",
    "8& 9\n",
    "\\end{matrix} \\right ] \\right ) = \n",
    "\\left [ \\begin{matrix} \n",
    "-1.41421356& -1.41421356\\\\\n",
    "-0.70710678& -0.70710678\\\\\n",
    "0.        &  0.        \\\\\n",
    "0.70710678&  0.70710678\\\\\n",
    "1.41421356&  1.41421356\n",
    "\\end{matrix} \\right ]\n",
    "$$\n",
    "\n",
    "W szczególności średnia po poszczególnych kolumnach nowej macierzy powinna wynosić `0` a odchylenie standardowe `1`."
   ]
  },
  {
   "cell_type": "code",
   "execution_count": null,
   "metadata": {
    "collapsed": true
   },
   "outputs": [],
   "source": []
  },
  {
   "cell_type": "markdown",
   "metadata": {},
   "source": [
    "### Zad 7.\n",
    "\n",
    "Majac dana tablice dowolnie wymiarowa (dla uproszczenia mozesz przyjac ze jedno lub dwu) oraz liczbe `x` znajdz najblizsza wartosc `x` w `A`, tzn. \n",
    "\n",
    "$$\n",
    "\\mathrm{closest}(x, A) = \\arg\\min_{a\\in A}| x - a| \n",
    "$$\n",
    "\n",
    "np. \n",
    "\n",
    "$$\n",
    "\\mathrm{closest}(1.5, [1, -4, 3]) = 1\n",
    "$$\n",
    "\n",
    "Ponownie, czy potrafisz zrobic to bez petli, etc.?\n"
   ]
  },
  {
   "cell_type": "code",
   "execution_count": null,
   "metadata": {
    "collapsed": true
   },
   "outputs": [],
   "source": []
  },
  {
   "cell_type": "markdown",
   "metadata": {},
   "source": [
    "### Zad 8.\n",
    "\n",
    "Zaimplementuj proste liczenie wartosci wielomianu o zadanych wspolczynnikach (analogie `np.poly1d`), czyli funkcje\n",
    "\n",
    "$$\n",
    "\\mathrm{poly}(x, a) = a_0 + a_1 x + a_2 x^2 + \\dots + a_k x^k = \\sum_{i=1}^k a_i x^i\n",
    "$$\n",
    "\n",
    "Czy potrafisz zrobic to jednolinijkowo bez uzycia petli, etc. (oraz oczywiście `np.poly1d`). \n",
    "Może Ci się przydać metoda `cumprod`."
   ]
  },
  {
   "cell_type": "code",
   "execution_count": 13,
   "outputs": [
    {
     "data": {
      "text/plain": "21"
     },
     "execution_count": 13,
     "metadata": {},
     "output_type": "execute_result"
    }
   ],
   "source": [
    "def poly(x, a: np.ndarray):\n",
    "    return np.sum(np.power(x, np.arange(a.shape[0])) * a)\n",
    "\n",
    "poly(3, np.arange(3))"
   ],
   "metadata": {
    "collapsed": false
   }
  },
  {
   "cell_type": "markdown",
   "metadata": {},
   "source": [
    "## Obrazki"
   ]
  },
  {
   "cell_type": "markdown",
   "metadata": {},
   "source": [
    "Do wyświetlania obrazków w notebooku potrzebny będzie `matplotlib`. W PyCharmie można użyć `imshow` z biblioteki `scipy`."
   ]
  },
  {
   "cell_type": "code",
   "execution_count": 9,
   "metadata": {},
   "outputs": [],
   "source": [
    "%matplotlib inline\n",
    "import matplotlib.pyplot as plt\n",
    "import matplotlib.image as mpimg"
   ]
  },
  {
   "cell_type": "code",
   "execution_count": 11,
   "metadata": {},
   "outputs": [
    {
     "data": {
      "text/plain": "<Figure size 640x480 with 1 Axes>",
      "image/png": "[encoded data removed]"
     },
     "metadata": {},
     "output_type": "display_data"
    }
   ],
   "source": [
    "img = mpimg.imread('images/django.png')\n",
    "plt.imshow(img);"
   ]
  },
  {
   "cell_type": "markdown",
   "metadata": {},
   "source": [
    "### Zad 9.\n",
    "\n",
    "Napisz funckje do przetwarzania obrazu do skali szarości wg wzoru:\n",
    "\n",
    "$$ 0.2126 \\times R + 0.7152 \\times  G + 0.0722 \\times B $$"
   ]
  },
  {
   "cell_type": "code",
   "execution_count": null,
   "metadata": {
    "collapsed": true
   },
   "outputs": [],
   "source": [
    "# cmap=gray czy cos w ten desen, bo inaczej neonowe wyswietla"
   ]
  },
  {
   "cell_type": "markdown",
   "metadata": {},
   "source": [
    "### Zadanie 10.\n",
    "\n",
    "Wyłącznie za pomocą metod numpy napisz kod do interpolacji liniowej pomiędzy parą punktów (dowolnej wymiarowości) wg wzoru:\n",
    "\n",
    "$$ x_i = \\lambda x_1 + (1 - \\lambda) x_2$$\n",
    "\n",
    "Kod powinien od razu generować interpolacje dla wielu wartości $\\lambda$, np dla 10 różnych $\\lambda \\in \\{0, 0.1, 0.2, \\dots, 1\\}$"
   ]
  },
  {
   "cell_type": "code",
   "execution_count": null,
   "metadata": {
    "collapsed": true
   },
   "outputs": [],
   "source": []
  }
 ],
 "metadata": {
  "kernelspec": {
   "display_name": "Python 3",
   "language": "python",
   "name": "python3"
  },
  "language_info": {
   "codemirror_mode": {
    "name": "ipython",
    "version": 3
   },
   "file_extension": ".py",
   "mimetype": "text/x-python",
   "name": "python",
   "nbconvert_exporter": "python",
   "pygments_lexer": "ipython3",
   "version": "3.6.4"
  }
 },
 "nbformat": 4,
 "nbformat_minor": 1
}
